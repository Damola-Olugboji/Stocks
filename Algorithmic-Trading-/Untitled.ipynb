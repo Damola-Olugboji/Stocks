{
 "cells": [
  {
   "cell_type": "code",
   "execution_count": 2,
   "metadata": {},
   "outputs": [],
   "source": [
    "from yahoo_fin import stock_info as si\n",
    "import pandas as pd\n",
    "import numpy as np\n",
    "from datetime import timedelta\n",
    "from datetime import date\n",
    "import matplotlib.pyplot as plt"
   ]
  },
  {
   "cell_type": "code",
   "execution_count": 3,
   "metadata": {},
   "outputs": [
    {
     "name": "stdout",
     "output_type": "stream",
     "text": [
      "                  open        high         low       close    adjclose  \\\n",
      "1999-01-04   34.902344   36.312500   34.843750   35.250000   22.499382   \n",
      "1999-01-05   35.468750   37.000000   35.359375   36.625000   23.377014   \n",
      "1999-01-06   37.375000   37.875000   36.687500   37.812500   24.134970   \n",
      "1999-01-07   37.437500   37.656250   37.062500   37.625000   24.015293   \n",
      "1999-01-08   38.046875   38.125000   36.750000   37.468750   23.915560   \n",
      "...                ...         ...         ...         ...         ...   \n",
      "2020-08-13  209.440002  211.350006  208.149994  208.699997  208.196716   \n",
      "2020-08-14  208.759995  209.589996  207.509995  208.899994  208.396240   \n",
      "2020-08-17  209.600006  211.190002  208.919998  210.279999  209.772919   \n",
      "2020-08-18  210.529999  212.360001  209.210007  211.490005  210.979996   \n",
      "2020-08-19  211.490005  212.100006  209.250000  209.699997  209.699997   \n",
      "\n",
      "              volume ticker  \n",
      "1999-01-04  69305200   MSFT  \n",
      "1999-01-05  64281600   MSFT  \n",
      "1999-01-06  69064800   MSFT  \n",
      "1999-01-07  51150400   MSFT  \n",
      "1999-01-08  50244800   MSFT  \n",
      "...              ...    ...  \n",
      "2020-08-13  22588900   MSFT  \n",
      "2020-08-14  17958900   MSFT  \n",
      "2020-08-17  20184800   MSFT  \n",
      "2020-08-18  21336200   MSFT  \n",
      "2020-08-19  27600900   MSFT  \n",
      "\n",
      "[5443 rows x 7 columns]\n"
     ]
    }
   ],
   "source": [
    "test = si.get_data('MSFT', interval='1d', start_date = '01/01/1999')\n",
    "print(test)"
   ]
  },
  {
   "cell_type": "code",
   "execution_count": 4,
   "metadata": {},
   "outputs": [
    {
     "name": "stdout",
     "output_type": "stream",
     "text": [
      "211.19000244140625\n"
     ]
    }
   ],
   "source": [
    "var = si.get_data(\"MSFT\")[\"high\"][-3]\n",
    "print(var)"
   ]
  },
  {
   "cell_type": "code",
   "execution_count": 16,
   "metadata": {},
   "outputs": [
    {
     "data": {
      "image/png": "[encoded data removed]",
      "text/plain": [
       "<Figure size 432x288 with 1 Axes>"
      ]
     },
     "metadata": {
      "needs_background": "light"
     },
     "output_type": "display_data"
    },
    {
     "name": "stdout",
     "output_type": "stream",
     "text": [
      "2020-04-24           NaN\n",
      "2020-04-27           NaN\n",
      "2020-04-28           NaN\n",
      "2020-04-29           NaN\n",
      "2020-04-30           NaN\n",
      "                 ...    \n",
      "2020-08-11    201.911201\n",
      "2020-08-12    202.396801\n",
      "2020-08-13    202.863600\n",
      "2020-08-14    203.383200\n",
      "2020-08-17    203.844800\n",
      "Name: close, Length: 80, dtype: float64\n"
     ]
    }
   ],
   "source": [
    "si.get_data('MSFT', interval='1d')['close'][-200:].mean()\n",
    "data = si.get_data('MSFT', interval='1d')['close'][-30:].mean()\n",
    "\n",
    "sma30 = pd.DataFrame()\n",
    "sma30 = si.get_data('MSFT', interval='1d')['close'][-80:].rolling(window=50).mean()\n",
    "sma30\n",
    "plt.plot(sma30)\n",
    "plt.ylabel(\"Price: USD\")\n",
    "plt.title(\"50 day sma Microsoft\")\n",
    "plt.show()\n",
    "print(sma30)"
   ]
  }
 ],
 "metadata": {
  "kernelspec": {
   "display_name": "Python 3",
   "language": "python",
   "name": "python3"
  },
  "language_info": {
   "codemirror_mode": {
    "name": "ipython",
    "version": 3
   },
   "file_extension": ".py",
   "mimetype": "text/x-python",
   "name": "python",
   "nbconvert_exporter": "python",
   "pygments_lexer": "ipython3",
   "version": "3.7.2"
  }
 },
 "nbformat": 4,
 "nbformat_minor": 4
}
